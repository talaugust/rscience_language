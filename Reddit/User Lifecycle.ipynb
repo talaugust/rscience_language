{
 "cells": [
  {
   "cell_type": "markdown",
   "metadata": {},
   "source": [
    "# User Lifecycle plots\n",
    "Plotting user lifecycle and acculturation gap for subreddits (Figure 6)"
   ]
  },
  {
   "cell_type": "code",
   "execution_count": 2,
   "metadata": {},
   "outputs": [
    {
     "name": "stdout",
     "output_type": "stream",
     "text": [
      "/homes/gws/taugust/Projects/ARK/community_guidelines\n"
     ]
    }
   ],
   "source": [
    "import os\n",
    "\n",
    "os.chdir('/homes/gws/taugust/Projects/ARK/community_guidelines')\n",
    "\n",
    "%run Reddit/SRILM_building_funcs.ipynb"
   ]
  },
  {
   "cell_type": "code",
   "execution_count": 2,
   "metadata": {},
   "outputs": [
    {
     "name": "stdout",
     "output_type": "stream",
     "text": [
      "-----------------------------------------------\n",
      "Gettting SRILM SLMs for  \u001b[35mscience\u001b[0m\n",
      "-----------------------------------------------\n"
     ]
    }
   ],
   "source": [
    "subs = ['science']\n",
    "comment_slms = {}\n",
    "post_slms = {}\n",
    "for i, s in enumerate(subs):\n",
    "    print('-----------------------------------------------')\n",
    "    print('Gettting SRILM SLMs for ', colored(s, 'magenta'))\n",
    "    print('-----------------------------------------------')\n",
    "    comment_slms[s] = build_monthly_SLM_SRILM(None, None, 10, name=s, use_saved_lms=True, kind='comment', year='2018', full=False)\n",
    "    post_slms[s] = build_total_SLM_SRILM(None, None, 10, name=s, use_saved_lms=True, kind='post', year='2018', full=False)\n",
    "\n"
   ]
  },
  {
   "cell_type": "code",
   "execution_count": 3,
   "metadata": {},
   "outputs": [
    {
     "data": {
      "text/plain": [
       "{'science': {1: ['../srilms_LMs/2018/comment/science/science_0_month_1_comment_vocab_60k.lm',\n",
       "   '../srilms_LMs/2018/comment/science/science_1_month_1_comment_vocab_60k.lm',\n",
       "   '../srilms_LMs/2018/comment/science/science_2_month_1_comment_vocab_60k.lm',\n",
       "   '../srilms_LMs/2018/comment/science/science_3_month_1_comment_vocab_60k.lm',\n",
       "   '../srilms_LMs/2018/comment/science/science_4_month_1_comment_vocab_60k.lm',\n",
       "   '../srilms_LMs/2018/comment/science/science_5_month_1_comment_vocab_60k.lm',\n",
       "   '../srilms_LMs/2018/comment/science/science_6_month_1_comment_vocab_60k.lm',\n",
       "   '../srilms_LMs/2018/comment/science/science_7_month_1_comment_vocab_60k.lm',\n",
       "   '../srilms_LMs/2018/comment/science/science_8_month_1_comment_vocab_60k.lm',\n",
       "   '../srilms_LMs/2018/comment/science/science_9_month_1_comment_vocab_60k.lm'],\n",
       "  2: ['../srilms_LMs/2018/comment/science/science_0_month_2_comment_vocab_60k.lm',\n",
       "   '../srilms_LMs/2018/comment/science/science_1_month_2_comment_vocab_60k.lm',\n",
       "   '../srilms_LMs/2018/comment/science/science_2_month_2_comment_vocab_60k.lm',\n",
       "   '../srilms_LMs/2018/comment/science/science_3_month_2_comment_vocab_60k.lm',\n",
       "   '../srilms_LMs/2018/comment/science/science_4_month_2_comment_vocab_60k.lm',\n",
       "   '../srilms_LMs/2018/comment/science/science_5_month_2_comment_vocab_60k.lm',\n",
       "   '../srilms_LMs/2018/comment/science/science_6_month_2_comment_vocab_60k.lm',\n",
       "   '../srilms_LMs/2018/comment/science/science_7_month_2_comment_vocab_60k.lm',\n",
       "   '../srilms_LMs/2018/comment/science/science_8_month_2_comment_vocab_60k.lm',\n",
       "   '../srilms_LMs/2018/comment/science/science_9_month_2_comment_vocab_60k.lm'],\n",
       "  3: ['../srilms_LMs/2018/comment/science/science_0_month_3_comment_vocab_60k.lm',\n",
       "   '../srilms_LMs/2018/comment/science/science_1_month_3_comment_vocab_60k.lm',\n",
       "   '../srilms_LMs/2018/comment/science/science_2_month_3_comment_vocab_60k.lm',\n",
       "   '../srilms_LMs/2018/comment/science/science_3_month_3_comment_vocab_60k.lm',\n",
       "   '../srilms_LMs/2018/comment/science/science_4_month_3_comment_vocab_60k.lm',\n",
       "   '../srilms_LMs/2018/comment/science/science_5_month_3_comment_vocab_60k.lm',\n",
       "   '../srilms_LMs/2018/comment/science/science_6_month_3_comment_vocab_60k.lm',\n",
       "   '../srilms_LMs/2018/comment/science/science_7_month_3_comment_vocab_60k.lm',\n",
       "   '../srilms_LMs/2018/comment/science/science_8_month_3_comment_vocab_60k.lm',\n",
       "   '../srilms_LMs/2018/comment/science/science_9_month_3_comment_vocab_60k.lm'],\n",
       "  4: ['../srilms_LMs/2018/comment/science/science_0_month_4_comment_vocab_60k.lm',\n",
       "   '../srilms_LMs/2018/comment/science/science_1_month_4_comment_vocab_60k.lm',\n",
       "   '../srilms_LMs/2018/comment/science/science_2_month_4_comment_vocab_60k.lm',\n",
       "   '../srilms_LMs/2018/comment/science/science_3_month_4_comment_vocab_60k.lm',\n",
       "   '../srilms_LMs/2018/comment/science/science_4_month_4_comment_vocab_60k.lm',\n",
       "   '../srilms_LMs/2018/comment/science/science_5_month_4_comment_vocab_60k.lm',\n",
       "   '../srilms_LMs/2018/comment/science/science_6_month_4_comment_vocab_60k.lm',\n",
       "   '../srilms_LMs/2018/comment/science/science_7_month_4_comment_vocab_60k.lm',\n",
       "   '../srilms_LMs/2018/comment/science/science_8_month_4_comment_vocab_60k.lm',\n",
       "   '../srilms_LMs/2018/comment/science/science_9_month_4_comment_vocab_60k.lm'],\n",
       "  5: ['../srilms_LMs/2018/comment/science/science_0_month_5_comment_vocab_60k.lm',\n",
       "   '../srilms_LMs/2018/comment/science/science_1_month_5_comment_vocab_60k.lm',\n",
       "   '../srilms_LMs/2018/comment/science/science_2_month_5_comment_vocab_60k.lm',\n",
       "   '../srilms_LMs/2018/comment/science/science_3_month_5_comment_vocab_60k.lm',\n",
       "   '../srilms_LMs/2018/comment/science/science_4_month_5_comment_vocab_60k.lm',\n",
       "   '../srilms_LMs/2018/comment/science/science_5_month_5_comment_vocab_60k.lm',\n",
       "   '../srilms_LMs/2018/comment/science/science_6_month_5_comment_vocab_60k.lm',\n",
       "   '../srilms_LMs/2018/comment/science/science_7_month_5_comment_vocab_60k.lm',\n",
       "   '../srilms_LMs/2018/comment/science/science_8_month_5_comment_vocab_60k.lm',\n",
       "   '../srilms_LMs/2018/comment/science/science_9_month_5_comment_vocab_60k.lm'],\n",
       "  6: ['../srilms_LMs/2018/comment/science/science_0_month_6_comment_vocab_60k.lm',\n",
       "   '../srilms_LMs/2018/comment/science/science_1_month_6_comment_vocab_60k.lm',\n",
       "   '../srilms_LMs/2018/comment/science/science_2_month_6_comment_vocab_60k.lm',\n",
       "   '../srilms_LMs/2018/comment/science/science_3_month_6_comment_vocab_60k.lm',\n",
       "   '../srilms_LMs/2018/comment/science/science_4_month_6_comment_vocab_60k.lm',\n",
       "   '../srilms_LMs/2018/comment/science/science_5_month_6_comment_vocab_60k.lm',\n",
       "   '../srilms_LMs/2018/comment/science/science_6_month_6_comment_vocab_60k.lm',\n",
       "   '../srilms_LMs/2018/comment/science/science_7_month_6_comment_vocab_60k.lm',\n",
       "   '../srilms_LMs/2018/comment/science/science_8_month_6_comment_vocab_60k.lm',\n",
       "   '../srilms_LMs/2018/comment/science/science_9_month_6_comment_vocab_60k.lm'],\n",
       "  7: ['../srilms_LMs/2018/comment/science/science_0_month_7_comment_vocab_60k.lm',\n",
       "   '../srilms_LMs/2018/comment/science/science_1_month_7_comment_vocab_60k.lm',\n",
       "   '../srilms_LMs/2018/comment/science/science_2_month_7_comment_vocab_60k.lm',\n",
       "   '../srilms_LMs/2018/comment/science/science_3_month_7_comment_vocab_60k.lm',\n",
       "   '../srilms_LMs/2018/comment/science/science_4_month_7_comment_vocab_60k.lm',\n",
       "   '../srilms_LMs/2018/comment/science/science_5_month_7_comment_vocab_60k.lm',\n",
       "   '../srilms_LMs/2018/comment/science/science_6_month_7_comment_vocab_60k.lm',\n",
       "   '../srilms_LMs/2018/comment/science/science_7_month_7_comment_vocab_60k.lm',\n",
       "   '../srilms_LMs/2018/comment/science/science_8_month_7_comment_vocab_60k.lm',\n",
       "   '../srilms_LMs/2018/comment/science/science_9_month_7_comment_vocab_60k.lm'],\n",
       "  8: ['../srilms_LMs/2018/comment/science/science_0_month_8_comment_vocab_60k.lm',\n",
       "   '../srilms_LMs/2018/comment/science/science_1_month_8_comment_vocab_60k.lm',\n",
       "   '../srilms_LMs/2018/comment/science/science_2_month_8_comment_vocab_60k.lm',\n",
       "   '../srilms_LMs/2018/comment/science/science_3_month_8_comment_vocab_60k.lm',\n",
       "   '../srilms_LMs/2018/comment/science/science_4_month_8_comment_vocab_60k.lm',\n",
       "   '../srilms_LMs/2018/comment/science/science_5_month_8_comment_vocab_60k.lm',\n",
       "   '../srilms_LMs/2018/comment/science/science_6_month_8_comment_vocab_60k.lm',\n",
       "   '../srilms_LMs/2018/comment/science/science_7_month_8_comment_vocab_60k.lm',\n",
       "   '../srilms_LMs/2018/comment/science/science_8_month_8_comment_vocab_60k.lm',\n",
       "   '../srilms_LMs/2018/comment/science/science_9_month_8_comment_vocab_60k.lm'],\n",
       "  9: ['../srilms_LMs/2018/comment/science/science_0_month_9_comment_vocab_60k.lm',\n",
       "   '../srilms_LMs/2018/comment/science/science_1_month_9_comment_vocab_60k.lm',\n",
       "   '../srilms_LMs/2018/comment/science/science_2_month_9_comment_vocab_60k.lm',\n",
       "   '../srilms_LMs/2018/comment/science/science_3_month_9_comment_vocab_60k.lm',\n",
       "   '../srilms_LMs/2018/comment/science/science_4_month_9_comment_vocab_60k.lm',\n",
       "   '../srilms_LMs/2018/comment/science/science_5_month_9_comment_vocab_60k.lm',\n",
       "   '../srilms_LMs/2018/comment/science/science_6_month_9_comment_vocab_60k.lm',\n",
       "   '../srilms_LMs/2018/comment/science/science_7_month_9_comment_vocab_60k.lm',\n",
       "   '../srilms_LMs/2018/comment/science/science_8_month_9_comment_vocab_60k.lm',\n",
       "   '../srilms_LMs/2018/comment/science/science_9_month_9_comment_vocab_60k.lm'],\n",
       "  10: ['../srilms_LMs/2018/comment/science/science_0_month_10_comment_vocab_60k.lm',\n",
       "   '../srilms_LMs/2018/comment/science/science_1_month_10_comment_vocab_60k.lm',\n",
       "   '../srilms_LMs/2018/comment/science/science_2_month_10_comment_vocab_60k.lm',\n",
       "   '../srilms_LMs/2018/comment/science/science_3_month_10_comment_vocab_60k.lm',\n",
       "   '../srilms_LMs/2018/comment/science/science_4_month_10_comment_vocab_60k.lm',\n",
       "   '../srilms_LMs/2018/comment/science/science_5_month_10_comment_vocab_60k.lm',\n",
       "   '../srilms_LMs/2018/comment/science/science_6_month_10_comment_vocab_60k.lm',\n",
       "   '../srilms_LMs/2018/comment/science/science_7_month_10_comment_vocab_60k.lm',\n",
       "   '../srilms_LMs/2018/comment/science/science_8_month_10_comment_vocab_60k.lm',\n",
       "   '../srilms_LMs/2018/comment/science/science_9_month_10_comment_vocab_60k.lm'],\n",
       "  11: ['../srilms_LMs/2018/comment/science/science_0_month_11_comment_vocab_60k.lm',\n",
       "   '../srilms_LMs/2018/comment/science/science_1_month_11_comment_vocab_60k.lm',\n",
       "   '../srilms_LMs/2018/comment/science/science_2_month_11_comment_vocab_60k.lm',\n",
       "   '../srilms_LMs/2018/comment/science/science_3_month_11_comment_vocab_60k.lm',\n",
       "   '../srilms_LMs/2018/comment/science/science_4_month_11_comment_vocab_60k.lm',\n",
       "   '../srilms_LMs/2018/comment/science/science_5_month_11_comment_vocab_60k.lm',\n",
       "   '../srilms_LMs/2018/comment/science/science_6_month_11_comment_vocab_60k.lm',\n",
       "   '../srilms_LMs/2018/comment/science/science_7_month_11_comment_vocab_60k.lm',\n",
       "   '../srilms_LMs/2018/comment/science/science_8_month_11_comment_vocab_60k.lm',\n",
       "   '../srilms_LMs/2018/comment/science/science_9_month_11_comment_vocab_60k.lm'],\n",
       "  12: ['../srilms_LMs/2018/comment/science/science_0_month_12_comment_vocab_60k.lm',\n",
       "   '../srilms_LMs/2018/comment/science/science_1_month_12_comment_vocab_60k.lm',\n",
       "   '../srilms_LMs/2018/comment/science/science_2_month_12_comment_vocab_60k.lm',\n",
       "   '../srilms_LMs/2018/comment/science/science_3_month_12_comment_vocab_60k.lm',\n",
       "   '../srilms_LMs/2018/comment/science/science_4_month_12_comment_vocab_60k.lm',\n",
       "   '../srilms_LMs/2018/comment/science/science_5_month_12_comment_vocab_60k.lm',\n",
       "   '../srilms_LMs/2018/comment/science/science_6_month_12_comment_vocab_60k.lm',\n",
       "   '../srilms_LMs/2018/comment/science/science_7_month_12_comment_vocab_60k.lm',\n",
       "   '../srilms_LMs/2018/comment/science/science_8_month_12_comment_vocab_60k.lm',\n",
       "   '../srilms_LMs/2018/comment/science/science_9_month_12_comment_vocab_60k.lm']}}"
      ]
     },
     "execution_count": 3,
     "metadata": {},
     "output_type": "execute_result"
    }
   ],
   "source": [
    "comment_slms"
   ]
  },
  {
   "cell_type": "markdown",
   "metadata": {},
   "source": [
    "# User lifecycle \n"
   ]
  },
  {
   "cell_type": "code",
   "execution_count": 4,
   "metadata": {},
   "outputs": [
    {
     "name": "stdout",
     "output_type": "stream",
     "text": [
      "Importing  \u001b[35mdata/cleaned/sub_comments/science_comments_2018.csv\u001b[0m ..... Done\n",
      "Importing  \u001b[35mdata/cleaned/test/2018/author_counts/science_author_counts_test_2018.csv\u001b[0m ..... Done\n",
      "Importing  \u001b[35mdata/cleaned/sub_posts/science_posts_2018.csv\u001b[0m ..... Done\n",
      "Importing  \u001b[35mdata/cleaned/test/2018/author_counts/science_author_counts_test_2018.csv\u001b[0m ..... Done\n"
     ]
    }
   ],
   "source": [
    "df_comments, df_posts, df_author_counts_test = get_df_posts_and_comments('science', '2018')\n",
    "\n",
    "df_author_counts_test_comments = df_author_counts_test[df_author_counts_test['kind'] == 'comment'].copy()\n",
    "df_author_counts_test_posts = df_author_counts_test[df_author_counts_test['kind'] == 'post'].copy()\n",
    "df_author_counts_test_comments['total'] = df_author_counts_test_comments[[str(m) for m in range(1,13)]].sum(axis=1)\n",
    "df_author_counts_test_posts['total'] = df_author_counts_test_posts[[str(m) for m in range(1,13)]].sum(axis=1)\n",
    "\n",
    "authors = []\n",
    "for m in range(1,13):\n",
    "    authors.extend(get_active_users(df_author_counts_test_comments, month=str(m), author_col='author', num_authors=None, kind='comment'))\n",
    "    \n",
    "# remove duplicates\n",
    "authors = list(set(authors))\n",
    "\n",
    "# select only a subset so we can actually run this\n",
    "sampled_authors = random.choices(authors, k=1000)\n",
    "\n",
    "    \n",
    "df_comments_test = df_comments[df_comments.author.isin(sampled_authors)]\n",
    "\n",
    "df_posts_test = df_posts[df_posts.author.isin(df_author_counts_test_posts['author'])]"
   ]
  },
  {
   "cell_type": "code",
   "execution_count": 5,
   "metadata": {},
   "outputs": [
    {
     "data": {
      "text/plain": [
       "15907"
      ]
     },
     "execution_count": 5,
     "metadata": {},
     "output_type": "execute_result"
    }
   ],
   "source": [
    "len(df_comments_test)"
   ]
  },
  {
   "cell_type": "code",
   "execution_count": 6,
   "metadata": {},
   "outputs": [],
   "source": [
    "# Take people with over n posts\n",
    "def get_total_active_user(author_df, kind, threshold):\n",
    "    author_df = author_df[author_df['kind'] == kind]\n",
    "    # get total number of user posts\n",
    "    for_months = [str(i) for i in range(1,13)]\n",
    "    author_df['total'] = author_df[for_months].sum(axis=1, numeric_only=True)\n",
    "    return author_df[author_df['total'] > threshold]\n",
    "\n",
    "def get_SRILM_SLM_entropy_single_text(line, slms):\n",
    "    # make random name, since this will be stored in tmp and doesn't really matter \n",
    "    name = str(uuid.uuid4())\n",
    "    line_path = export_text([line], name=name, corpus_path='/tmp/')\n",
    "    entropy = calc_month_entropy_SRILM(slms, line_path)\n",
    "    return entropy\n",
    "\n",
    "# Get entropy for each line in df, this takes a long time\n",
    "def get_df_entropy(df, slms, kind):\n",
    "    df['text'] = [word_tokenize(x)[:10] for x in df.body]\n",
    "    if kind == 'post':\n",
    "        df['entropy'] = [get_SRILM_SLM_entropy_single_text(row['text'], slms) for index, row in df.iterrows()]\n",
    "    else:\n",
    "        df['entropy'] = [get_SRILM_SLM_entropy_single_text(row['text'], slms[row['created_month']]) for index, row in df.iterrows()]\n",
    "    df['mean_entropy'] = [np.mean(x) for x in df['entropy'].copy()]\n",
    "    return df\n",
    "\n",
    "# get the number of the post/comment that each user has made\n",
    "def get_df_number(df):\n",
    "    df['number'] = None\n",
    "    for a in df['author']:\n",
    "        df_author = df[df['author'] == a]\n",
    "        df.loc[df['author'] == a, 'number'] = pd.Series([i for i in range(len(df_author))], index=df_author.sort_values(by='created_utc').index).copy()\n",
    "\n",
    "    return df\n",
    "\n"
   ]
  },
  {
   "cell_type": "code",
   "execution_count": 7,
   "metadata": {},
   "outputs": [
    {
     "name": "stderr",
     "output_type": "stream",
     "text": [
      "/homes/gws/taugust/miniconda3/envs/reddit/lib/python3.6/site-packages/ipykernel_launcher.py:18: SettingWithCopyWarning: \n",
      "A value is trying to be set on a copy of a slice from a DataFrame.\n",
      "Try using .loc[row_indexer,col_indexer] = value instead\n",
      "\n",
      "See the caveats in the documentation: http://pandas.pydata.org/pandas-docs/stable/indexing.html#indexing-view-versus-copy\n",
      "/homes/gws/taugust/miniconda3/envs/reddit/lib/python3.6/site-packages/ipykernel_launcher.py:6: FutureWarning: The signature of `Series.to_csv` was aligned to that of `DataFrame.to_csv`, and argument 'header' will change its default value from False to True: please pass an explicit value to suppress this warning.\n",
      "  \n"
     ]
    },
    {
     "ename": "KeyboardInterrupt",
     "evalue": "",
     "output_type": "error",
     "traceback": [
      "\u001b[0;31m---------------------------------------------------------------------------\u001b[0m",
      "\u001b[0;31mKeyboardInterrupt\u001b[0m                         Traceback (most recent call last)",
      "\u001b[0;32m<ipython-input-7-ad15748ed76a>\u001b[0m in \u001b[0;36m<module>\u001b[0;34m\u001b[0m\n\u001b[1;32m      9\u001b[0m \u001b[0;34m\u001b[0m\u001b[0m\n\u001b[1;32m     10\u001b[0m \u001b[0;34m\u001b[0m\u001b[0m\n\u001b[0;32m---> 11\u001b[0;31m \u001b[0mdf_comments_test\u001b[0m \u001b[0;34m=\u001b[0m \u001b[0mget_df_entropy\u001b[0m\u001b[0;34m(\u001b[0m\u001b[0mdf_comments_test\u001b[0m\u001b[0;34m,\u001b[0m \u001b[0mcomment_slms\u001b[0m\u001b[0;34m[\u001b[0m\u001b[0;34m'science'\u001b[0m\u001b[0;34m]\u001b[0m\u001b[0;34m,\u001b[0m \u001b[0mkind\u001b[0m\u001b[0;34m=\u001b[0m\u001b[0;34m'comment'\u001b[0m\u001b[0;34m)\u001b[0m\u001b[0;34m\u001b[0m\u001b[0;34m\u001b[0m\u001b[0m\n\u001b[0m\u001b[1;32m     12\u001b[0m \u001b[0mdf_comments_test\u001b[0m \u001b[0;34m=\u001b[0m \u001b[0mget_df_number\u001b[0m\u001b[0;34m(\u001b[0m\u001b[0mdf_comments_test\u001b[0m\u001b[0;34m)\u001b[0m\u001b[0;34m\u001b[0m\u001b[0;34m\u001b[0m\u001b[0m\n\u001b[1;32m     13\u001b[0m \u001b[0;34m\u001b[0m\u001b[0m\n",
      "\u001b[0;32m<ipython-input-6-4e2b28597ef5>\u001b[0m in \u001b[0;36mget_df_entropy\u001b[0;34m(df, slms, kind)\u001b[0m\n\u001b[1;32m     20\u001b[0m         \u001b[0mdf\u001b[0m\u001b[0;34m[\u001b[0m\u001b[0;34m'entropy'\u001b[0m\u001b[0;34m]\u001b[0m \u001b[0;34m=\u001b[0m \u001b[0;34m[\u001b[0m\u001b[0mget_SRILM_SLM_entropy_single_text\u001b[0m\u001b[0;34m(\u001b[0m\u001b[0mrow\u001b[0m\u001b[0;34m[\u001b[0m\u001b[0;34m'text'\u001b[0m\u001b[0;34m]\u001b[0m\u001b[0;34m,\u001b[0m \u001b[0mslms\u001b[0m\u001b[0;34m)\u001b[0m \u001b[0;32mfor\u001b[0m \u001b[0mindex\u001b[0m\u001b[0;34m,\u001b[0m \u001b[0mrow\u001b[0m \u001b[0;32min\u001b[0m \u001b[0mdf\u001b[0m\u001b[0;34m.\u001b[0m\u001b[0miterrows\u001b[0m\u001b[0;34m(\u001b[0m\u001b[0;34m)\u001b[0m\u001b[0;34m]\u001b[0m\u001b[0;34m\u001b[0m\u001b[0;34m\u001b[0m\u001b[0m\n\u001b[1;32m     21\u001b[0m     \u001b[0;32melse\u001b[0m\u001b[0;34m:\u001b[0m\u001b[0;34m\u001b[0m\u001b[0;34m\u001b[0m\u001b[0m\n\u001b[0;32m---> 22\u001b[0;31m         \u001b[0mdf\u001b[0m\u001b[0;34m[\u001b[0m\u001b[0;34m'entropy'\u001b[0m\u001b[0;34m]\u001b[0m \u001b[0;34m=\u001b[0m \u001b[0;34m[\u001b[0m\u001b[0mget_SRILM_SLM_entropy_single_text\u001b[0m\u001b[0;34m(\u001b[0m\u001b[0mrow\u001b[0m\u001b[0;34m[\u001b[0m\u001b[0;34m'text'\u001b[0m\u001b[0;34m]\u001b[0m\u001b[0;34m,\u001b[0m \u001b[0mslms\u001b[0m\u001b[0;34m[\u001b[0m\u001b[0mrow\u001b[0m\u001b[0;34m[\u001b[0m\u001b[0;34m'created_month'\u001b[0m\u001b[0;34m]\u001b[0m\u001b[0;34m]\u001b[0m\u001b[0;34m)\u001b[0m \u001b[0;32mfor\u001b[0m \u001b[0mindex\u001b[0m\u001b[0;34m,\u001b[0m \u001b[0mrow\u001b[0m \u001b[0;32min\u001b[0m \u001b[0mdf\u001b[0m\u001b[0;34m.\u001b[0m\u001b[0miterrows\u001b[0m\u001b[0;34m(\u001b[0m\u001b[0;34m)\u001b[0m\u001b[0;34m]\u001b[0m\u001b[0;34m\u001b[0m\u001b[0;34m\u001b[0m\u001b[0m\n\u001b[0m\u001b[1;32m     23\u001b[0m     \u001b[0mdf\u001b[0m\u001b[0;34m[\u001b[0m\u001b[0;34m'mean_entropy'\u001b[0m\u001b[0;34m]\u001b[0m \u001b[0;34m=\u001b[0m \u001b[0;34m[\u001b[0m\u001b[0mnp\u001b[0m\u001b[0;34m.\u001b[0m\u001b[0mmean\u001b[0m\u001b[0;34m(\u001b[0m\u001b[0mx\u001b[0m\u001b[0;34m)\u001b[0m \u001b[0;32mfor\u001b[0m \u001b[0mx\u001b[0m \u001b[0;32min\u001b[0m \u001b[0mdf\u001b[0m\u001b[0;34m[\u001b[0m\u001b[0;34m'entropy'\u001b[0m\u001b[0;34m]\u001b[0m\u001b[0;34m.\u001b[0m\u001b[0mcopy\u001b[0m\u001b[0;34m(\u001b[0m\u001b[0;34m)\u001b[0m\u001b[0;34m]\u001b[0m\u001b[0;34m\u001b[0m\u001b[0;34m\u001b[0m\u001b[0m\n\u001b[1;32m     24\u001b[0m     \u001b[0;32mreturn\u001b[0m \u001b[0mdf\u001b[0m\u001b[0;34m\u001b[0m\u001b[0;34m\u001b[0m\u001b[0m\n",
      "\u001b[0;32m<ipython-input-6-4e2b28597ef5>\u001b[0m in \u001b[0;36m<listcomp>\u001b[0;34m(.0)\u001b[0m\n\u001b[1;32m     20\u001b[0m         \u001b[0mdf\u001b[0m\u001b[0;34m[\u001b[0m\u001b[0;34m'entropy'\u001b[0m\u001b[0;34m]\u001b[0m \u001b[0;34m=\u001b[0m \u001b[0;34m[\u001b[0m\u001b[0mget_SRILM_SLM_entropy_single_text\u001b[0m\u001b[0;34m(\u001b[0m\u001b[0mrow\u001b[0m\u001b[0;34m[\u001b[0m\u001b[0;34m'text'\u001b[0m\u001b[0;34m]\u001b[0m\u001b[0;34m,\u001b[0m \u001b[0mslms\u001b[0m\u001b[0;34m)\u001b[0m \u001b[0;32mfor\u001b[0m \u001b[0mindex\u001b[0m\u001b[0;34m,\u001b[0m \u001b[0mrow\u001b[0m \u001b[0;32min\u001b[0m \u001b[0mdf\u001b[0m\u001b[0;34m.\u001b[0m\u001b[0miterrows\u001b[0m\u001b[0;34m(\u001b[0m\u001b[0;34m)\u001b[0m\u001b[0;34m]\u001b[0m\u001b[0;34m\u001b[0m\u001b[0;34m\u001b[0m\u001b[0m\n\u001b[1;32m     21\u001b[0m     \u001b[0;32melse\u001b[0m\u001b[0;34m:\u001b[0m\u001b[0;34m\u001b[0m\u001b[0;34m\u001b[0m\u001b[0m\n\u001b[0;32m---> 22\u001b[0;31m         \u001b[0mdf\u001b[0m\u001b[0;34m[\u001b[0m\u001b[0;34m'entropy'\u001b[0m\u001b[0;34m]\u001b[0m \u001b[0;34m=\u001b[0m \u001b[0;34m[\u001b[0m\u001b[0mget_SRILM_SLM_entropy_single_text\u001b[0m\u001b[0;34m(\u001b[0m\u001b[0mrow\u001b[0m\u001b[0;34m[\u001b[0m\u001b[0;34m'text'\u001b[0m\u001b[0;34m]\u001b[0m\u001b[0;34m,\u001b[0m \u001b[0mslms\u001b[0m\u001b[0;34m[\u001b[0m\u001b[0mrow\u001b[0m\u001b[0;34m[\u001b[0m\u001b[0;34m'created_month'\u001b[0m\u001b[0;34m]\u001b[0m\u001b[0;34m]\u001b[0m\u001b[0;34m)\u001b[0m \u001b[0;32mfor\u001b[0m \u001b[0mindex\u001b[0m\u001b[0;34m,\u001b[0m \u001b[0mrow\u001b[0m \u001b[0;32min\u001b[0m \u001b[0mdf\u001b[0m\u001b[0;34m.\u001b[0m\u001b[0miterrows\u001b[0m\u001b[0;34m(\u001b[0m\u001b[0;34m)\u001b[0m\u001b[0;34m]\u001b[0m\u001b[0;34m\u001b[0m\u001b[0;34m\u001b[0m\u001b[0m\n\u001b[0m\u001b[1;32m     23\u001b[0m     \u001b[0mdf\u001b[0m\u001b[0;34m[\u001b[0m\u001b[0;34m'mean_entropy'\u001b[0m\u001b[0;34m]\u001b[0m \u001b[0;34m=\u001b[0m \u001b[0;34m[\u001b[0m\u001b[0mnp\u001b[0m\u001b[0;34m.\u001b[0m\u001b[0mmean\u001b[0m\u001b[0;34m(\u001b[0m\u001b[0mx\u001b[0m\u001b[0;34m)\u001b[0m \u001b[0;32mfor\u001b[0m \u001b[0mx\u001b[0m \u001b[0;32min\u001b[0m \u001b[0mdf\u001b[0m\u001b[0;34m[\u001b[0m\u001b[0;34m'entropy'\u001b[0m\u001b[0;34m]\u001b[0m\u001b[0;34m.\u001b[0m\u001b[0mcopy\u001b[0m\u001b[0;34m(\u001b[0m\u001b[0;34m)\u001b[0m\u001b[0;34m]\u001b[0m\u001b[0;34m\u001b[0m\u001b[0;34m\u001b[0m\u001b[0m\n\u001b[1;32m     24\u001b[0m     \u001b[0;32mreturn\u001b[0m \u001b[0mdf\u001b[0m\u001b[0;34m\u001b[0m\u001b[0;34m\u001b[0m\u001b[0m\n",
      "\u001b[0;32m<ipython-input-6-4e2b28597ef5>\u001b[0m in \u001b[0;36mget_SRILM_SLM_entropy_single_text\u001b[0;34m(line, slms)\u001b[0m\n\u001b[1;32m     11\u001b[0m     \u001b[0mname\u001b[0m \u001b[0;34m=\u001b[0m \u001b[0mstr\u001b[0m\u001b[0;34m(\u001b[0m\u001b[0muuid\u001b[0m\u001b[0;34m.\u001b[0m\u001b[0muuid4\u001b[0m\u001b[0;34m(\u001b[0m\u001b[0;34m)\u001b[0m\u001b[0;34m)\u001b[0m\u001b[0;34m\u001b[0m\u001b[0;34m\u001b[0m\u001b[0m\n\u001b[1;32m     12\u001b[0m     \u001b[0mline_path\u001b[0m \u001b[0;34m=\u001b[0m \u001b[0mexport_text\u001b[0m\u001b[0;34m(\u001b[0m\u001b[0;34m[\u001b[0m\u001b[0mline\u001b[0m\u001b[0;34m]\u001b[0m\u001b[0;34m,\u001b[0m \u001b[0mname\u001b[0m\u001b[0;34m=\u001b[0m\u001b[0mname\u001b[0m\u001b[0;34m,\u001b[0m \u001b[0mcorpus_path\u001b[0m\u001b[0;34m=\u001b[0m\u001b[0;34m'/tmp/'\u001b[0m\u001b[0;34m)\u001b[0m\u001b[0;34m\u001b[0m\u001b[0;34m\u001b[0m\u001b[0m\n\u001b[0;32m---> 13\u001b[0;31m     \u001b[0mentropy\u001b[0m \u001b[0;34m=\u001b[0m \u001b[0mcalc_month_entropy_SRILM\u001b[0m\u001b[0;34m(\u001b[0m\u001b[0mslms\u001b[0m\u001b[0;34m,\u001b[0m \u001b[0mline_path\u001b[0m\u001b[0;34m)\u001b[0m\u001b[0;34m\u001b[0m\u001b[0;34m\u001b[0m\u001b[0m\n\u001b[0m\u001b[1;32m     14\u001b[0m     \u001b[0;32mreturn\u001b[0m \u001b[0mentropy\u001b[0m\u001b[0;34m\u001b[0m\u001b[0;34m\u001b[0m\u001b[0m\n\u001b[1;32m     15\u001b[0m \u001b[0;34m\u001b[0m\u001b[0m\n",
      "\u001b[0;32m<ipython-input-1-21a7096e6c92>\u001b[0m in \u001b[0;36mcalc_month_entropy_SRILM\u001b[0;34m(slms, text_path)\u001b[0m\n\u001b[1;32m    182\u001b[0m     \u001b[0;32mfor\u001b[0m \u001b[0mi\u001b[0m\u001b[0;34m,\u001b[0m \u001b[0mslm\u001b[0m \u001b[0;32min\u001b[0m \u001b[0menumerate\u001b[0m\u001b[0;34m(\u001b[0m\u001b[0mslms\u001b[0m\u001b[0;34m)\u001b[0m\u001b[0;34m:\u001b[0m\u001b[0;34m\u001b[0m\u001b[0;34m\u001b[0m\u001b[0m\n\u001b[1;32m    183\u001b[0m         \u001b[0;31m# pretty sure this works since SRILM takes each line in the text file as seperate and outputs an average\u001b[0m\u001b[0;34m\u001b[0m\u001b[0;34m\u001b[0m\u001b[0;34m\u001b[0m\u001b[0m\n\u001b[0;32m--> 184\u001b[0;31m         \u001b[0mentropies\u001b[0m\u001b[0;34m.\u001b[0m\u001b[0mappend\u001b[0m\u001b[0;34m(\u001b[0m\u001b[0mget_SRILM_entropy\u001b[0m\u001b[0;34m(\u001b[0m\u001b[0;34m'/homes/gws/taugust/tools/SRILM/bin/i686-m64/ngram'\u001b[0m\u001b[0;34m,\u001b[0m \u001b[0mslm\u001b[0m\u001b[0;34m,\u001b[0m \u001b[0mtext_path\u001b[0m\u001b[0;34m)\u001b[0m\u001b[0;34m)\u001b[0m\u001b[0;34m\u001b[0m\u001b[0;34m\u001b[0m\u001b[0m\n\u001b[0m\u001b[1;32m    185\u001b[0m     \u001b[0;32mreturn\u001b[0m \u001b[0mentropies\u001b[0m\u001b[0;34m\u001b[0m\u001b[0;34m\u001b[0m\u001b[0m\n\u001b[1;32m    186\u001b[0m \u001b[0;34m\u001b[0m\u001b[0m\n",
      "\u001b[0;32m<ipython-input-1-21a7096e6c92>\u001b[0m in \u001b[0;36mget_SRILM_entropy\u001b[0;34m(ngram_command, lm_path, test_text_path)\u001b[0m\n\u001b[1;32m     28\u001b[0m \u001b[0;31m# requrires Jupyter magic\u001b[0m\u001b[0;34m\u001b[0m\u001b[0;34m\u001b[0m\u001b[0;34m\u001b[0m\u001b[0m\n\u001b[1;32m     29\u001b[0m \u001b[0;32mdef\u001b[0m \u001b[0mget_SRILM_entropy\u001b[0m\u001b[0;34m(\u001b[0m\u001b[0mngram_command\u001b[0m\u001b[0;34m,\u001b[0m \u001b[0mlm_path\u001b[0m\u001b[0;34m,\u001b[0m \u001b[0mtest_text_path\u001b[0m\u001b[0;34m)\u001b[0m\u001b[0;34m:\u001b[0m\u001b[0;34m\u001b[0m\u001b[0;34m\u001b[0m\u001b[0m\n\u001b[0;32m---> 30\u001b[0;31m     \u001b[0mppl_output\u001b[0m \u001b[0;34m=\u001b[0m \u001b[0mget_ipython\u001b[0m\u001b[0;34m(\u001b[0m\u001b[0;34m)\u001b[0m\u001b[0;34m.\u001b[0m\u001b[0mgetoutput\u001b[0m\u001b[0;34m(\u001b[0m\u001b[0;34m' {ngram_command} -ppl {test_text_path} -lm {lm_path}'\u001b[0m\u001b[0;34m)\u001b[0m\u001b[0;34m\u001b[0m\u001b[0;34m\u001b[0m\u001b[0m\n\u001b[0m\u001b[1;32m     31\u001b[0m     \u001b[0;32mtry\u001b[0m\u001b[0;34m:\u001b[0m\u001b[0;34m\u001b[0m\u001b[0;34m\u001b[0m\u001b[0m\n\u001b[1;32m     32\u001b[0m         \u001b[0mppl\u001b[0m \u001b[0;34m=\u001b[0m \u001b[0mfloat\u001b[0m\u001b[0;34m(\u001b[0m\u001b[0mppl_output\u001b[0m\u001b[0;34m[\u001b[0m\u001b[0;36m1\u001b[0m\u001b[0;34m]\u001b[0m\u001b[0;34m.\u001b[0m\u001b[0msplit\u001b[0m\u001b[0;34m(\u001b[0m\u001b[0;34m' '\u001b[0m\u001b[0;34m)\u001b[0m\u001b[0;34m[\u001b[0m\u001b[0;36m5\u001b[0m\u001b[0;34m]\u001b[0m\u001b[0;34m)\u001b[0m\u001b[0;34m\u001b[0m\u001b[0;34m\u001b[0m\u001b[0m\n",
      "\u001b[0;32m~/miniconda3/envs/reddit/lib/python3.6/site-packages/IPython/core/interactiveshell.py\u001b[0m in \u001b[0;36mgetoutput\u001b[0;34m(self, cmd, split, depth)\u001b[0m\n\u001b[1;32m   2491\u001b[0m             \u001b[0;31m# this is *far* from a rigorous test\u001b[0m\u001b[0;34m\u001b[0m\u001b[0;34m\u001b[0m\u001b[0;34m\u001b[0m\u001b[0m\n\u001b[1;32m   2492\u001b[0m             \u001b[0;32mraise\u001b[0m \u001b[0mOSError\u001b[0m\u001b[0;34m(\u001b[0m\u001b[0;34m\"Background processes not supported.\"\u001b[0m\u001b[0;34m)\u001b[0m\u001b[0;34m\u001b[0m\u001b[0;34m\u001b[0m\u001b[0m\n\u001b[0;32m-> 2493\u001b[0;31m         \u001b[0mout\u001b[0m \u001b[0;34m=\u001b[0m \u001b[0mgetoutput\u001b[0m\u001b[0;34m(\u001b[0m\u001b[0mself\u001b[0m\u001b[0;34m.\u001b[0m\u001b[0mvar_expand\u001b[0m\u001b[0;34m(\u001b[0m\u001b[0mcmd\u001b[0m\u001b[0;34m,\u001b[0m \u001b[0mdepth\u001b[0m\u001b[0;34m=\u001b[0m\u001b[0mdepth\u001b[0m\u001b[0;34m+\u001b[0m\u001b[0;36m1\u001b[0m\u001b[0;34m)\u001b[0m\u001b[0;34m)\u001b[0m\u001b[0;34m\u001b[0m\u001b[0;34m\u001b[0m\u001b[0m\n\u001b[0m\u001b[1;32m   2494\u001b[0m         \u001b[0;32mif\u001b[0m \u001b[0msplit\u001b[0m\u001b[0;34m:\u001b[0m\u001b[0;34m\u001b[0m\u001b[0;34m\u001b[0m\u001b[0m\n\u001b[1;32m   2495\u001b[0m             \u001b[0mout\u001b[0m \u001b[0;34m=\u001b[0m \u001b[0mSList\u001b[0m\u001b[0;34m(\u001b[0m\u001b[0mout\u001b[0m\u001b[0;34m.\u001b[0m\u001b[0msplitlines\u001b[0m\u001b[0;34m(\u001b[0m\u001b[0;34m)\u001b[0m\u001b[0;34m)\u001b[0m\u001b[0;34m\u001b[0m\u001b[0;34m\u001b[0m\u001b[0m\n",
      "\u001b[0;32m~/miniconda3/envs/reddit/lib/python3.6/site-packages/IPython/utils/_process_common.py\u001b[0m in \u001b[0;36mgetoutput\u001b[0;34m(cmd)\u001b[0m\n\u001b[1;32m    128\u001b[0m     correct order as would be seen if running the command in a terminal).\n\u001b[1;32m    129\u001b[0m     \"\"\"\n\u001b[0;32m--> 130\u001b[0;31m     \u001b[0mout\u001b[0m \u001b[0;34m=\u001b[0m \u001b[0mprocess_handler\u001b[0m\u001b[0;34m(\u001b[0m\u001b[0mcmd\u001b[0m\u001b[0;34m,\u001b[0m \u001b[0;32mlambda\u001b[0m \u001b[0mp\u001b[0m\u001b[0;34m:\u001b[0m \u001b[0mp\u001b[0m\u001b[0;34m.\u001b[0m\u001b[0mcommunicate\u001b[0m\u001b[0;34m(\u001b[0m\u001b[0;34m)\u001b[0m\u001b[0;34m[\u001b[0m\u001b[0;36m0\u001b[0m\u001b[0;34m]\u001b[0m\u001b[0;34m,\u001b[0m \u001b[0msubprocess\u001b[0m\u001b[0;34m.\u001b[0m\u001b[0mSTDOUT\u001b[0m\u001b[0;34m)\u001b[0m\u001b[0;34m\u001b[0m\u001b[0;34m\u001b[0m\u001b[0m\n\u001b[0m\u001b[1;32m    131\u001b[0m     \u001b[0;32mif\u001b[0m \u001b[0mout\u001b[0m \u001b[0;32mis\u001b[0m \u001b[0;32mNone\u001b[0m\u001b[0;34m:\u001b[0m\u001b[0;34m\u001b[0m\u001b[0;34m\u001b[0m\u001b[0m\n\u001b[1;32m    132\u001b[0m         \u001b[0;32mreturn\u001b[0m \u001b[0;34m''\u001b[0m\u001b[0;34m\u001b[0m\u001b[0;34m\u001b[0m\u001b[0m\n",
      "\u001b[0;32m~/miniconda3/envs/reddit/lib/python3.6/site-packages/IPython/utils/_process_common.py\u001b[0m in \u001b[0;36mprocess_handler\u001b[0;34m(cmd, callback, stderr)\u001b[0m\n\u001b[1;32m     82\u001b[0m                          \u001b[0mstdout\u001b[0m\u001b[0;34m=\u001b[0m\u001b[0msubprocess\u001b[0m\u001b[0;34m.\u001b[0m\u001b[0mPIPE\u001b[0m\u001b[0;34m,\u001b[0m\u001b[0;34m\u001b[0m\u001b[0;34m\u001b[0m\u001b[0m\n\u001b[1;32m     83\u001b[0m                          \u001b[0mstderr\u001b[0m\u001b[0;34m=\u001b[0m\u001b[0mstderr\u001b[0m\u001b[0;34m,\u001b[0m\u001b[0;34m\u001b[0m\u001b[0;34m\u001b[0m\u001b[0m\n\u001b[0;32m---> 84\u001b[0;31m                          close_fds=close_fds)\n\u001b[0m\u001b[1;32m     85\u001b[0m \u001b[0;34m\u001b[0m\u001b[0m\n\u001b[1;32m     86\u001b[0m     \u001b[0;32mtry\u001b[0m\u001b[0;34m:\u001b[0m\u001b[0;34m\u001b[0m\u001b[0;34m\u001b[0m\u001b[0m\n",
      "\u001b[0;32m~/miniconda3/envs/reddit/lib/python3.6/subprocess.py\u001b[0m in \u001b[0;36m__init__\u001b[0;34m(self, args, bufsize, executable, stdin, stdout, stderr, preexec_fn, close_fds, shell, cwd, env, universal_newlines, startupinfo, creationflags, restore_signals, start_new_session, pass_fds, encoding, errors)\u001b[0m\n\u001b[1;32m    727\u001b[0m                                 \u001b[0mc2pread\u001b[0m\u001b[0;34m,\u001b[0m \u001b[0mc2pwrite\u001b[0m\u001b[0;34m,\u001b[0m\u001b[0;34m\u001b[0m\u001b[0;34m\u001b[0m\u001b[0m\n\u001b[1;32m    728\u001b[0m                                 \u001b[0merrread\u001b[0m\u001b[0;34m,\u001b[0m \u001b[0merrwrite\u001b[0m\u001b[0;34m,\u001b[0m\u001b[0;34m\u001b[0m\u001b[0;34m\u001b[0m\u001b[0m\n\u001b[0;32m--> 729\u001b[0;31m                                 restore_signals, start_new_session)\n\u001b[0m\u001b[1;32m    730\u001b[0m         \u001b[0;32mexcept\u001b[0m\u001b[0;34m:\u001b[0m\u001b[0;34m\u001b[0m\u001b[0;34m\u001b[0m\u001b[0m\n\u001b[1;32m    731\u001b[0m             \u001b[0;31m# Cleanup if the child failed starting.\u001b[0m\u001b[0;34m\u001b[0m\u001b[0;34m\u001b[0m\u001b[0;34m\u001b[0m\u001b[0m\n",
      "\u001b[0;32m~/miniconda3/envs/reddit/lib/python3.6/subprocess.py\u001b[0m in \u001b[0;36m_execute_child\u001b[0;34m(self, args, executable, preexec_fn, close_fds, pass_fds, cwd, env, startupinfo, creationflags, shell, p2cread, p2cwrite, c2pread, c2pwrite, errread, errwrite, restore_signals, start_new_session)\u001b[0m\n\u001b[1;32m   1293\u001b[0m                             \u001b[0merrread\u001b[0m\u001b[0;34m,\u001b[0m \u001b[0merrwrite\u001b[0m\u001b[0;34m,\u001b[0m\u001b[0;34m\u001b[0m\u001b[0;34m\u001b[0m\u001b[0m\n\u001b[1;32m   1294\u001b[0m                             \u001b[0merrpipe_read\u001b[0m\u001b[0;34m,\u001b[0m \u001b[0merrpipe_write\u001b[0m\u001b[0;34m,\u001b[0m\u001b[0;34m\u001b[0m\u001b[0;34m\u001b[0m\u001b[0m\n\u001b[0;32m-> 1295\u001b[0;31m                             restore_signals, start_new_session, preexec_fn)\n\u001b[0m\u001b[1;32m   1296\u001b[0m                     \u001b[0mself\u001b[0m\u001b[0;34m.\u001b[0m\u001b[0m_child_created\u001b[0m \u001b[0;34m=\u001b[0m \u001b[0;32mTrue\u001b[0m\u001b[0;34m\u001b[0m\u001b[0;34m\u001b[0m\u001b[0m\n\u001b[1;32m   1297\u001b[0m                 \u001b[0;32mfinally\u001b[0m\u001b[0;34m:\u001b[0m\u001b[0;34m\u001b[0m\u001b[0;34m\u001b[0m\u001b[0m\n",
      "\u001b[0;31mKeyboardInterrupt\u001b[0m: "
     ]
    }
   ],
   "source": [
    "\n",
    "df_comments_test = get_df_entropy(df_comments_test, comment_slms['science'], kind='comment')\n",
    "df_comments_test = get_df_number(df_comments_test)\n"
   ]
  },
  {
   "cell_type": "code",
   "execution_count": 4,
   "metadata": {},
   "outputs": [],
   "source": [
    "# # save the data so you don't have to do the above every time\n",
    "# # df_posts_test.to_csv('data/cleaned/User_lifecycle_comments_active_vocab_based.csv', index=False, quoting=csv.QUOTE_ALL, escapechar='\\\\')\n",
    "# df_posts_test = pd.read_csv('data/cleaned/User_lifecycle_posts.csv', quoting=csv.QUOTE_ALL, escapechar='\\\\')"
   ]
  },
  {
   "cell_type": "code",
   "execution_count": 5,
   "metadata": {},
   "outputs": [],
   "source": [
    "# save the data so you don't have to do the above every time\n",
    "# df_comments_test.to_csv('data/cleaned/User_lifecycle_comments.csv', index=False, quoting=csv.QUOTE_ALL, escapechar='\\\\')\n",
    "df_comments_test = pd.read_csv('data/cleaned/User_lifecycle_comments.csv', quoting=csv.QUOTE_ALL, escapechar='\\\\')"
   ]
  },
  {
   "cell_type": "code",
   "execution_count": 6,
   "metadata": {},
   "outputs": [
    {
     "data": {
      "text/plain": [
       "0.0027731558513588465"
      ]
     },
     "execution_count": 6,
     "metadata": {},
     "output_type": "execute_result"
    }
   ],
   "source": [
    "(df_comments_test[df_comments_test['number'] > 50]['author'].nunique())/(df_comments_test['author'].nunique())"
   ]
  },
  {
   "cell_type": "code",
   "execution_count": 7,
   "metadata": {},
   "outputs": [],
   "source": [
    "df_comments_test = df_comments_test[df_comments_test['number'] <= 50]"
   ]
  },
  {
   "cell_type": "code",
   "execution_count": 8,
   "metadata": {},
   "outputs": [
    {
     "data": {
      "text/html": [
       "<div>\n",
       "<style scoped>\n",
       "    .dataframe tbody tr th:only-of-type {\n",
       "        vertical-align: middle;\n",
       "    }\n",
       "\n",
       "    .dataframe tbody tr th {\n",
       "        vertical-align: top;\n",
       "    }\n",
       "\n",
       "    .dataframe thead th {\n",
       "        text-align: right;\n",
       "    }\n",
       "</style>\n",
       "<table border=\"1\" class=\"dataframe\">\n",
       "  <thead>\n",
       "    <tr style=\"text-align: right;\">\n",
       "      <th></th>\n",
       "      <th>mean_entropy</th>\n",
       "      <th>number</th>\n",
       "    </tr>\n",
       "  </thead>\n",
       "  <tbody>\n",
       "    <tr>\n",
       "      <th>mean_entropy</th>\n",
       "      <td>1.000000</td>\n",
       "      <td>-0.032535</td>\n",
       "    </tr>\n",
       "    <tr>\n",
       "      <th>number</th>\n",
       "      <td>-0.032535</td>\n",
       "      <td>1.000000</td>\n",
       "    </tr>\n",
       "  </tbody>\n",
       "</table>\n",
       "</div>"
      ],
      "text/plain": [
       "              mean_entropy    number\n",
       "mean_entropy      1.000000 -0.032535\n",
       "number           -0.032535  1.000000"
      ]
     },
     "execution_count": 8,
     "metadata": {},
     "output_type": "execute_result"
    }
   ],
   "source": [
    "df_comments_test[['mean_entropy', 'number']].corr(method='pearson')"
   ]
  },
  {
   "cell_type": "code",
   "execution_count": 9,
   "metadata": {},
   "outputs": [
    {
     "data": {
      "text/plain": [
       "SpearmanrResult(correlation=-0.056597199945023303, pvalue=4.0478249606788656e-05)"
      ]
     },
     "execution_count": 9,
     "metadata": {},
     "output_type": "execute_result"
    }
   ],
   "source": [
    "stats.spearmanr(df_comments_test['mean_entropy'], df_comments_test['number'])"
   ]
  },
  {
   "cell_type": "code",
   "execution_count": 10,
   "metadata": {},
   "outputs": [
    {
     "data": {
      "text/html": [
       "<table class=\"simpletable\">\n",
       "<caption>OLS Regression Results</caption>\n",
       "<tr>\n",
       "  <th>Dep. Variable:</th>      <td>mean_entropy</td>   <th>  R-squared:         </th> <td>   0.001</td> \n",
       "</tr>\n",
       "<tr>\n",
       "  <th>Model:</th>                   <td>OLS</td>       <th>  Adj. R-squared:    </th> <td>   0.001</td> \n",
       "</tr>\n",
       "<tr>\n",
       "  <th>Method:</th>             <td>Least Squares</td>  <th>  F-statistic:       </th> <td>   5.340</td> \n",
       "</tr>\n",
       "<tr>\n",
       "  <th>Date:</th>             <td>Fri, 06 Mar 2020</td> <th>  Prob (F-statistic):</th>  <td>0.0209</td>  \n",
       "</tr>\n",
       "<tr>\n",
       "  <th>Time:</th>                 <td>14:47:48</td>     <th>  Log-Likelihood:    </th> <td> -7613.0</td> \n",
       "</tr>\n",
       "<tr>\n",
       "  <th>No. Observations:</th>      <td>  5249</td>      <th>  AIC:               </th> <td>1.523e+04</td>\n",
       "</tr>\n",
       "<tr>\n",
       "  <th>Df Residuals:</th>          <td>  5247</td>      <th>  BIC:               </th> <td>1.524e+04</td>\n",
       "</tr>\n",
       "<tr>\n",
       "  <th>Df Model:</th>              <td>     1</td>      <th>                     </th>     <td> </td>    \n",
       "</tr>\n",
       "<tr>\n",
       "  <th>Covariance Type:</th>      <td>nonrobust</td>    <th>                     </th>     <td> </td>    \n",
       "</tr>\n",
       "</table>\n",
       "<table class=\"simpletable\">\n",
       "<tr>\n",
       "      <td></td>         <th>coef</th>     <th>std err</th>      <th>t</th>      <th>P>|t|</th>  <th>[0.025</th>    <th>0.975]</th>  \n",
       "</tr>\n",
       "<tr>\n",
       "  <th>Intercept</th> <td>    7.2978</td> <td>    0.017</td> <td>  439.895</td> <td> 0.000</td> <td>    7.265</td> <td>    7.330</td>\n",
       "</tr>\n",
       "<tr>\n",
       "  <th>number</th>    <td>   -0.0041</td> <td>    0.002</td> <td>   -2.311</td> <td> 0.021</td> <td>   -0.008</td> <td>   -0.001</td>\n",
       "</tr>\n",
       "</table>\n",
       "<table class=\"simpletable\">\n",
       "<tr>\n",
       "  <th>Omnibus:</th>       <td>80.591</td> <th>  Durbin-Watson:     </th> <td>   2.004</td>\n",
       "</tr>\n",
       "<tr>\n",
       "  <th>Prob(Omnibus):</th> <td> 0.000</td> <th>  Jarque-Bera (JB):  </th> <td>  83.966</td>\n",
       "</tr>\n",
       "<tr>\n",
       "  <th>Skew:</th>          <td>-0.308</td> <th>  Prob(JB):          </th> <td>5.85e-19</td>\n",
       "</tr>\n",
       "<tr>\n",
       "  <th>Kurtosis:</th>      <td> 3.071</td> <th>  Cond. No.          </th> <td>    11.0</td>\n",
       "</tr>\n",
       "</table><br/><br/>Warnings:<br/>[1] Standard Errors assume that the covariance matrix of the errors is correctly specified."
      ],
      "text/plain": [
       "<class 'statsmodels.iolib.summary.Summary'>\n",
       "\"\"\"\n",
       "                            OLS Regression Results                            \n",
       "==============================================================================\n",
       "Dep. Variable:           mean_entropy   R-squared:                       0.001\n",
       "Model:                            OLS   Adj. R-squared:                  0.001\n",
       "Method:                 Least Squares   F-statistic:                     5.340\n",
       "Date:                Fri, 06 Mar 2020   Prob (F-statistic):             0.0209\n",
       "Time:                        14:47:48   Log-Likelihood:                -7613.0\n",
       "No. Observations:                5249   AIC:                         1.523e+04\n",
       "Df Residuals:                    5247   BIC:                         1.524e+04\n",
       "Df Model:                           1                                         \n",
       "Covariance Type:            nonrobust                                         \n",
       "==============================================================================\n",
       "                 coef    std err          t      P>|t|      [0.025      0.975]\n",
       "------------------------------------------------------------------------------\n",
       "Intercept      7.2978      0.017    439.895      0.000       7.265       7.330\n",
       "number        -0.0041      0.002     -2.311      0.021      -0.008      -0.001\n",
       "==============================================================================\n",
       "Omnibus:                       80.591   Durbin-Watson:                   2.004\n",
       "Prob(Omnibus):                  0.000   Jarque-Bera (JB):               83.966\n",
       "Skew:                          -0.308   Prob(JB):                     5.85e-19\n",
       "Kurtosis:                       3.071   Cond. No.                         11.0\n",
       "==============================================================================\n",
       "\n",
       "Warnings:\n",
       "[1] Standard Errors assume that the covariance matrix of the errors is correctly specified.\n",
       "\"\"\""
      ]
     },
     "execution_count": 10,
     "metadata": {},
     "output_type": "execute_result"
    }
   ],
   "source": [
    "import statsmodels.api as sm\n",
    "\n",
    "import statsmodels.formula.api as smf\n",
    "\n",
    "mod = smf.ols(formula='mean_entropy ~ number', data=df_comments_test[df_comments_test['number'] < 50])\n",
    "\n",
    "res = mod.fit()\n",
    "\n",
    "res.summary()"
   ]
  },
  {
   "cell_type": "code",
   "execution_count": 16,
   "metadata": {},
   "outputs": [
    {
     "data": {
      "text/plain": [
       "<matplotlib.legend.Legend at 0x7f5c3c0f0ef0>"
      ]
     },
     "execution_count": 16,
     "metadata": {},
     "output_type": "execute_result"
    },
    {
     "data": {
      "image/png": "[encoded data removed]",
      "text/plain": [
       "<Figure size 1440x720 with 1 Axes>"
      ]
     },
     "metadata": {},
     "output_type": "display_data"
    }
   ],
   "source": [
    "sns.set(style=\"whitegrid\")\n",
    "plt.figure(figsize=(20,10))\n",
    "# ax = sns.regplot(x=\"number\", y=\"mean_entropy\", x_bins=10, data=df_posts_test[df_posts_test['number'] < 50], x_jitter=.01, label='posts')\n",
    "ax = sns.regplot(x=\"number\", y=\"mean_entropy\", x_bins=10, data=df_comments_test[df_comments_test['number'] <= 50], x_jitter=.01, label='comments')\n",
    "\n",
    "ax.legend()"
   ]
  },
  {
   "cell_type": "code",
   "execution_count": null,
   "metadata": {},
   "outputs": [],
   "source": []
  }
 ],
 "metadata": {
  "kernelspec": {
   "display_name": "reddit",
   "language": "python",
   "name": "reddit"
  },
  "language_info": {
   "codemirror_mode": {
    "name": "ipython",
    "version": 3
   },
   "file_extension": ".py",
   "mimetype": "text/x-python",
   "name": "python",
   "nbconvert_exporter": "python",
   "pygments_lexer": "ipython3",
   "version": "3.6.8"
  }
 },
 "nbformat": 4,
 "nbformat_minor": 2
}
