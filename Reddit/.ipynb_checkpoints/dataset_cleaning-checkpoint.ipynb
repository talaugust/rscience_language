{
 "cells": [
  {
   "cell_type": "markdown",
   "metadata": {},
   "source": [
    "# Cleaning Reddit Datasets\n",
    "Defines a bunch of cleaning functions and general guidelines for keeping datasets consistent across notebooks \n",
    "Functions are designed to be able to easily change what gets cleaned, per Tim's guidelines of be able to change pipeline quickly\n",
    "### Functionality - TODO\n",
    "- Clean posts of any deleted or removed posts\n",
    "- Clean comments of deleted or removed comments\n",
    "- Seperate moderator comments & posts into seperate 'interface' datasets \n",
    "- Clean comments/posts of crosspostings (?)\n",
    "- Clean comments/posts of super rare words (only use top 5th percentile of words?)\n",
    "- Remove auto-mod comments from everything, or put them only once into the interface dataset \n",
    "### Funticions -TODO\n",
    " \n",
    "\n"
   ]
  },
  {
   "cell_type": "code",
   "execution_count": null,
   "metadata": {},
   "outputs": [],
   "source": [
    "%load_ext dotenv\n",
    "%dotenv\n",
    "\n",
    "import numpy as np\n",
    "import csv as csv\n",
    "import pandas as pd\n",
    "import matplotlib.pyplot as plt\n",
    "import matplotlib\n",
    "import math\n",
    "import json\n",
    "from scipy import stats\n",
    "from datetime import datetime\n",
    "\n",
    "from nltk import pos_tag\n",
    "from nltk.util import pad_sequence\n",
    "from nltk.tokenize import word_tokenize\n",
    "from nltk.stem import PorterStemmer\n",
    "from termcolor import colored\n",
    "\n",
    "import praw\n",
    "import requests\n",
    "import json\n",
    "\n",
    "import os\n",
    "\n",
    "client_id = os.environ.get(\"client_id\")\n",
    "client_secret = os.environ.get(\"client_secret\")\n",
    "user_agent = os.environ.get(\"user_agent\")\n",
    "\n",
    "reddit = praw.Reddit(client_id=client_id,\n",
    "                     client_secret=client_secret,\n",
    "                     user_agent=user_agent)\n",
    "\n"
   ]
  }
 ],
 "metadata": {
  "kernelspec": {
   "display_name": "reddit_api_python",
   "language": "python",
   "name": "reddit_api"
  },
  "language_info": {
   "codemirror_mode": {
    "name": "ipython",
    "version": 3
   },
   "file_extension": ".py",
   "mimetype": "text/x-python",
   "name": "python",
   "nbconvert_exporter": "python",
   "pygments_lexer": "ipython3",
   "version": "3.6.2"
  }
 },
 "nbformat": 4,
 "nbformat_minor": 2
}
